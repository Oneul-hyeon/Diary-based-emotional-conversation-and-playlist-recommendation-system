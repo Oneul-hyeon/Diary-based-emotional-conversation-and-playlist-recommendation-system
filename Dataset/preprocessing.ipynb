{
 "cells": [
  {
   "cell_type": "markdown",
   "metadata": {},
   "source": [
    "# 1. Environment Setting"
   ]
  },
  {
   "cell_type": "markdown",
   "metadata": {},
   "source": [
    "## (1). 라이브러리 설정"
   ]
  },
  {
   "cell_type": "code",
   "execution_count": 1,
   "metadata": {},
   "outputs": [],
   "source": [
    "import re\n",
    "import pandas as pd\n",
    "\n",
    "from hanspell import spell_checker\n",
    "from soynlp.normalizer import emoticon_normalize"
   ]
  },
  {
   "cell_type": "markdown",
   "metadata": {},
   "source": [
    "## (2). 데이터 불러오기"
   ]
  },
  {
   "cell_type": "code",
   "execution_count": 2,
   "metadata": {},
   "outputs": [],
   "source": [
    "train_dataset = pd.read_excel('/Users/hyeontae/Desktop/toy_ai/Dataset/감성대화말뭉치(최종데이터)_Training.xlsx', index_col = 0)\n",
    "test_dataset = pd.read_excel('/Users/hyeontae/Desktop/toy_ai/Dataset/감성대화말뭉치(최종데이터)_Validation.xlsx', index_col = 0)"
   ]
  },
  {
   "cell_type": "markdown",
   "metadata": {},
   "source": [
    "# 2. Data Preprocessing"
   ]
  },
  {
   "cell_type": "markdown",
   "metadata": {},
   "source": [
    "## (1) 컬럼 추출"
   ]
  },
  {
   "cell_type": "code",
   "execution_count": 4,
   "metadata": {},
   "outputs": [],
   "source": [
    "col = ['감정_대분류', '사람문장1']\n",
    "\n",
    "train_data = train_dataset[col]\n",
    "test_data = test_dataset[col]"
   ]
  },
  {
   "cell_type": "markdown",
   "metadata": {},
   "source": [
    "## (2) 컬럼명 변경"
   ]
  },
  {
   "cell_type": "code",
   "execution_count": 5,
   "metadata": {},
   "outputs": [],
   "source": [
    "train_data = train_data.rename(columns={'감정_대분류' : 'emotion', '사람문장1' : 'sentence'})\n",
    "test_data = test_data.rename(columns={'감정_대분류' : 'emotion', '사람문장1' : 'sentence'})"
   ]
  },
  {
   "cell_type": "markdown",
   "metadata": {},
   "source": [
    "## (3) 행 추출"
   ]
  },
  {
   "cell_type": "markdown",
   "metadata": {},
   "source": [
    "- 필요한 라벨값을 가지는 행만 추출"
   ]
  },
  {
   "cell_type": "code",
   "execution_count": 6,
   "metadata": {},
   "outputs": [],
   "source": [
    "need_label = ['분노', '기쁨', '불안', '슬픔']\n",
    "train_data = train_data.loc[train_data['emotion'].isin(need_label)]\n",
    "test_data = test_data.loc[test_data['emotion'].isin(need_label)]"
   ]
  },
  {
   "cell_type": "markdown",
   "metadata": {},
   "source": [
    "- 인덱스 재정의"
   ]
  },
  {
   "cell_type": "code",
   "execution_count": 47,
   "metadata": {},
   "outputs": [],
   "source": [
    "train_data = train_data.reset_index(drop = True)\n",
    "test_data = test_data.reset_index(drop = True)"
   ]
  },
  {
   "cell_type": "markdown",
   "metadata": {},
   "source": [
    "## (4) 텍스트 수정\n",
    "- 맞춤법 수정\n",
    "- 반복되는 문자 정제"
   ]
  },
  {
   "cell_type": "markdown",
   "metadata": {},
   "source": [
    "- 텍스트 수정을 위한 함수 생성"
   ]
  },
  {
   "cell_type": "code",
   "execution_count": 49,
   "metadata": {},
   "outputs": [],
   "source": [
    "def correct_spelling(sentence) :\n",
    "    spelled_sent = spell_checker.check(sentence)\n",
    "    hanspell_sent = spelled_sent.checked\n",
    "    modified_sentence = emoticon_normalize(hanspell_sent, num_repeats = 2)\n",
    "    return modified_sentence"
   ]
  },
  {
   "cell_type": "markdown",
   "metadata": {},
   "source": [
    "- 텍스트 수정"
   ]
  },
  {
   "cell_type": "code",
   "execution_count": 50,
   "metadata": {},
   "outputs": [],
   "source": [
    "train_data['sentence'] = train_data.sentence.apply(lambda sent : correct_spelling(sent))\n",
    "test_data['sentence'] = test_data.sentence.apply(lambda sent : correct_spelling(sent))"
   ]
  },
  {
   "cell_type": "markdown",
   "metadata": {},
   "source": [
    "## (5) 특수문자 제거"
   ]
  },
  {
   "cell_type": "code",
   "execution_count": 6,
   "metadata": {},
   "outputs": [],
   "source": [
    "train_data['sentence'] = train_data.sentence.apply(lambda x : re.sub('[,.!?]', '', x))\n",
    "test_data['sentence'] = test_data.sentence.apply(lambda x : re.sub('[,.!?]', '', x))"
   ]
  },
  {
   "cell_type": "code",
   "execution_count": 8,
   "metadata": {},
   "outputs": [],
   "source": [
    "train_data.to_csv('/Users/hyeontae/Desktop/toy_ai/preprocessed_train_data.csv', index = False)\n",
    "test_data.to_csv('/Users/hyeontae/Desktop/toy_ai/preprocessed_test_data.csv', index = False)"
   ]
  }
 ],
 "metadata": {
  "kernelspec": {
   "display_name": "nlp",
   "language": "python",
   "name": "python3"
  },
  "language_info": {
   "codemirror_mode": {
    "name": "ipython",
    "version": 3
   },
   "file_extension": ".py",
   "mimetype": "text/x-python",
   "name": "python",
   "nbconvert_exporter": "python",
   "pygments_lexer": "ipython3",
   "version": "3.9.17"
  },
  "orig_nbformat": 4
 },
 "nbformat": 4,
 "nbformat_minor": 2
}
